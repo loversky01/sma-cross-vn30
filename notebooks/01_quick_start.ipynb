{
  "cells": [
    {
      "cell_type": "markdown",
      "metadata": {},
      "source": [
        "# 📊 SMA Cross VN30 - Quick Start Guide\n",
        "\n",
        "Notebook này hướng dẫn cách sử dụng hệ thống SMA Cross VN30\n",
        "\n",
        "---\n",
        "\n",
        "## 🎯 Objectives\n",
        "\n",
        "1. Load và explore dữ liệu\n",
        "2. Tính toán SMA và tạo tín hiệu\n",
        "3. Chạy backtest đơn giản\n",
        "4. Visualize kết quả\n",
        "5. Tính toán metrics\n",
        "\n",
        "---\n"
      ]
    }
  ],
  "metadata": {
    "language_info": {
      "name": "python"
    }
  },
  "nbformat": 4,
  "nbformat_minor": 2
}
